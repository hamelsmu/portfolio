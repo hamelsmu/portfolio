{
 "cells": [
  {
   "cell_type": "markdown",
   "metadata": {},
   "source": [
    "# Prior to ECCA\n",
    "> Samples of leadership work prior to joining ECCA\n",
    "\n",
    "- toc: true \n",
    "- comments: false\n",
    "- badges: false\n",
    "- categories: [portfolio, Travis Dickey]\n",
    "- image: images/images_thumb.jpg\n",
    "- hide: false"
   ]
  },
  {
   "cell_type": "markdown",
   "metadata": {},
   "source": [
    "# ECMS\n",
    "> Assistant Principal"
   ]
  },
  {
   "cell_type": "markdown",
   "metadata": {},
   "source": [
    "My primary role at [Effingham County Middle School](https://www.effinghamschools.com/Domain/411) involved discipline. Below is a video originally created for the teachers at ECMS to explain how to write a behavior referral. The graphics and other editing in this version were created by Kim Larson at ECCA.\n",
    "> youtube: https://youtu.be/dy_KXRqTXfY"
   ]
  },
  {
   "cell_type": "markdown",
   "metadata": {},
   "source": [
    "# SEHS\n",
    "> Assistant Principal & Athletic Director"
   ]
  },
  {
   "cell_type": "markdown",
   "metadata": {},
   "source": [
    "In 2012-13, SEHS athletics enjoyed its first-ever top-5 finish in the Georgia Athletic Director's Association Directors Cup.\n",
    "\n",
    "\n",
    "<img src=\"my_icons/gada-dir-cup.PNG\" width=\"600\"/>"
   ]
  },
  {
   "cell_type": "markdown",
   "metadata": {},
   "source": [
    "# Director of Publications\n",
    "> Samples of my work at [Savannah Country Day School](https://www.savcds.org/)"
   ]
  },
  {
   "cell_type": "markdown",
   "metadata": {},
   "source": [
    "I worked in the development office at Savannah Country Day from 2002-2005, where I wrote, edited, and published a variety of publications. "
   ]
  },
  {
   "cell_type": "markdown",
   "metadata": {},
   "source": [
    "### Images\n",
    "\n",
    "An [alumni magazine](https://drive.google.com/file/d/0B6PcPaEEFBbsZXFHZ0E0LVFmNms/view?usp=sharing) published twice a year and mailed all Country Day alumni.\n",
    "\n",
    "<img src=\"my_icons/images_640.jpg\" width=\"600\"/>"
   ]
  },
  {
   "cell_type": "markdown",
   "metadata": {},
   "source": [
    "### The Hornet\n",
    "\n",
    "A [parent newsletter](https://drive.google.com/file/d/0B6PcPaEEFBbsc2preW1aRFJfdDg/view?usp=sharing) published six times a year and mailed to all parents\n",
    "\n",
    "\n",
    "<img src=\"my_icons/hornet_640.jpg\" width=\"300\" height=\"150\"/>"
   ]
  }
 ],
 "metadata": {
  "kernelspec": {
   "display_name": "Python 3",
   "language": "python",
   "name": "python3"
  },
  "language_info": {
   "codemirror_mode": {
    "name": "ipython",
    "version": 3
   },
   "file_extension": ".py",
   "mimetype": "text/x-python",
   "name": "python",
   "nbconvert_exporter": "python",
   "pygments_lexer": "ipython3",
   "version": "3.7.6"
  }
 },
 "nbformat": 4,
 "nbformat_minor": 4
}
