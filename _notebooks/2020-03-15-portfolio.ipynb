{
 "cells": [
  {
   "cell_type": "markdown",
   "metadata": {},
   "source": [
    "# Travis Dickey\n",
    "> Samples of work from my 20+ year career.\n",
    "\n",
    "- toc: true \n",
    "- badges: true\n",
    "- comments: true\n",
    "- categories: [portfolio]\n",
    "- image: images/chart-preview.png"
   ]
  },
  {
   "cell_type": "markdown",
   "metadata": {},
   "source": [
    "# Foundation for STEM\n",
    "\n",
    "I am currently leading [ECCA](https://www.effinghamschools.com/Page/11517) in pursuit of STEM certification. Below are samples of the work the faculty and STEM Leadership Team have developed as part of that effort."
   ]
  },
  {
   "cell_type": "markdown",
   "metadata": {},
   "source": [
    "## Intro to PLC's\n",
    "\n",
    "Below is a video I sent out to the faculty prior to our first Professional Learning Community (PLC) meeting this year. I had met with the entire faculty in small groups prior to this to get feedback on where they felt we were in the STEM certification process and what roadblocks they felt we needed to overcome.\n",
    "\n",
    "\n",
    "> youtube: https://youtu.be/s8SStk-3sTM"
   ]
  },
  {
   "cell_type": "markdown",
   "metadata": {},
   "source": [
    "## The Process\n",
    "\n",
    "The engineering design process is a key component of STEM teaching & learning. Working with a team of teachers and under the direction of our principal Ashley Kieffer, we developed the following graphic representation of what we simply call \"the process\", as it is intended to be used in all courses, not just engineering.\n",
    "<img src=\"my_icons/the_process.jpg\" alt=\"The Process\" style=\"width: 600px;\"/>"
   ]
  },
  {
   "cell_type": "markdown",
   "metadata": {},
   "source": [
    "## STEM Vision\n",
    "> The STEM Leadership team developed the following presentation as a guide for teachers. It lays out the foundation for STEM at ECCA and provides examples for how to apply \"the process\" to problem- and project-based units.\n",
    "\n",
    "- STEM Definition: STEM is practical, real-world learning\n",
    "- ECCA Vision: Preparing students to develop practical solutions to real-world problems\n",
    "\n",
    "[STEM Vision Presentation](https://docs.google.com/presentation/d/1NFjJnL8o-rGoXiK_QLNaNFHMS7xBaNhqkrHoS2i7tsg/present?token=AC4w5Vgpg0inBqcrktFxTgQW9kSYDCcVzg%3A1584270866244&includes_info_params=1&eisi=CJ3g1_GsnOgCFQfngQodcb8NOA#slide=id.p)"
   ]
  },
  {
   "cell_type": "markdown",
   "metadata": {},
   "source": [
    "# Day-to-Day Leadership\n",
    "> Examples of leadership on a more ordinary level, pertaining to daily management"
   ]
  },
  {
   "cell_type": "markdown",
   "metadata": {},
   "source": [
    "## Celebrating Success\n",
    "\n",
    "ECCA senior Skylar Kennett earned a full scholarship to Georgia Tech. I wrote the following article and had it posted to the school and district websites to celebrate her succes.\n",
    "\n",
    "[Sky's the Limit for Skylar Kennett](https://www.effinghamschools.com/site/default.aspx?PageType=3&ModuleInstanceID=46709&ViewID=7b97f7ed-8e5e-4120-848f-a8b4987d588f&RenderLoc=0&FlexDataID=65290&PageID=34351)"
   ]
  },
  {
   "cell_type": "markdown",
   "metadata": {},
   "source": [
    "## Working with Students\n",
    "\n",
    "STEM Leadership determined that we needed to improve the design and display of our building, to better reflect the STEM culture. I mentioned that it would neat if we had a touchscreen display for when visitors enter the building, they could access useful information. Senior Mathiew Tackitt took the idea and ran with it, developing the following splash screen for the display.\n",
    "\n",
    "[Link to display]"
   ]
  },
  {
   "cell_type": "markdown",
   "metadata": {},
   "source": [
    "## Traffic Management\n",
    "\n",
    "Traffic exiting the parking lot at the end of the day is particularly congested. I created this video and asked Kim Larson to add graphics to it. The video provides an explanation of how to reduce the congestion.\n",
    "\n",
    "https://youtu.be/RDith5rmrSQ"
   ]
  },
  {
   "cell_type": "markdown",
   "metadata": {},
   "source": [
    "## Presenting to Research\n",
    "\n",
    "Dr. Thompson learned of my hobby in machine learning and deep learning. She asked me to present to her scientific research classes in hopes of inspiring students to pursue similar study. I wrote the following blog post following the presentation highlighting the main ideas.\n",
    "\n",
    "[You Too Can Do AI](https://www.effinghamschools.com/cms/lib/GA01000314/Centricity/Domain/2320/sch_you_can_do.html)"
   ]
  },
  {
   "cell_type": "markdown",
   "metadata": {},
   "source": [
    "<object data=\"https://travisdickey.github.io/portfolio/images/the_process.pdf\" type=\"application/pdf\" width=\"700px\" height=\"700px\">\n",
    "    <embed src=\"https://travisdickey.github.io/portfolio/images/the_process.pdf\">\n",
    "        <p>This browser does not support PDFs. Please download the PDF to view it: <a href=\"https://travisdickey.github.io/portfolio/images/the_process.pdf\">Download PDF</a>.</p>\n",
    "    </embed>\n",
    "</object>"
   ]
  }
 ],
 "metadata": {
  "kernelspec": {
   "display_name": "Python 3",
   "language": "python",
   "name": "python3"
  },
  "language_info": {
   "codemirror_mode": {
    "name": "ipython",
    "version": 3
   },
   "file_extension": ".py",
   "mimetype": "text/x-python",
   "name": "python",
   "nbconvert_exporter": "python",
   "pygments_lexer": "ipython3",
   "version": "3.7.6"
  }
 },
 "nbformat": 4,
 "nbformat_minor": 4
}
