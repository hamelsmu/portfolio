{
 "cells": [
  {
   "cell_type": "markdown",
   "metadata": {},
   "source": [
    "# Travis Dickey, Assistant Principal at ECCA\n",
    "> Samples of current leadership work\n",
    "\n",
    "- toc: true \n",
    "- badges: true\n",
    "- comments: true\n",
    "- categories: [portfolio]\n",
    "- image: images/chart-preview.png"
   ]
  },
  {
   "cell_type": "markdown",
   "metadata": {},
   "source": [
    "# Leadership at ECCA\n",
    "> This portfolio contains samples of my leadership from the current school year at ECCA. Our principal Mr. Ashley Kieffer gave me the honor of leading the school in its efforts to obtain STEM certification. Most of the samples below reflect work in this area. However, while I have led the process, I certainly have not done all the work. Nearly every sample reflects a team effort. "
   ]
  },
  {
   "cell_type": "markdown",
   "metadata": {},
   "source": [
    "## Vision\n",
    "\n",
    "[ECCA's](https://www.effinghamschools.com/Page/11517) pursuit of STEM certification includes the whole school, STEM and CTAE alike. Below are samples of work the faculty and STEM Leadership Team have developed as part of the effort. The leadership team consists of teachers from math, science, CTAE, and humanities as well as a parent and student representative. In addition, early on the leadership team established a separate team made up entirely of students."
   ]
  },
  {
   "cell_type": "markdown",
   "metadata": {},
   "source": [
    "## Intro to PLC's\n",
    "\n",
    "Below is a video I sent out to the faculty prior to our first Professional Learning Community (PLC) meeting this year. I had met with the entire faculty in small groups prior to this to get feedback on where they felt we were in the STEM certification process and what roadblocks we needed to overcome.\n",
    "\n",
    "\n",
    "> youtube: https://youtu.be/s8SStk-3sTM"
   ]
  },
  {
   "cell_type": "markdown",
   "metadata": {},
   "source": [
    "## STEM Fundamentals\n",
    "> The STEM Leadership team developed the following as a guide for teachers. It lays out the foundation for STEM at ECCA and provides examples for how to apply \"the process\" to problem- and project-based units. The leadership team has been guided by the [Cognia (AdvancED) STEM Standards](https://drive.google.com/file/d/1hSS07anGDlSgmvsi_086T4nQpU2hoFem/view?usp=sharing) and has constantly sought feedback from stakeholders throughout development of this foundation.\n",
    "\n",
    "### STEM Definition: \n",
    "STEM is practical, real-world learning  \n",
    "### ECCA Vision:\n",
    "Preparing students to develop practical solutions to real-world problems\n",
    "### Framework:\n",
    "Inquiry- or project-based units of study, integrated across multiple disciplines, in which students collaborate and are self-directed, guided by teachers, and assessed on the quality of their performance. In addition, students have opportunities to work with mentors and share their work with others.\n",
    "> [STEM Vision Presentation](https://docs.google.com/presentation/d/1NFjJnL8o-rGoXiK_QLNaNFHMS7xBaNhqkrHoS2i7tsg/present?token=AC4w5Vgpg0inBqcrktFxTgQW9kSYDCcVzg%3A1584270866244&includes_info_params=1&eisi=CJ3g1_GsnOgCFQfngQodcb8NOA#slide=id.p): Describes the foundation for STEM at ECCA and provides specific examples for what practical, real-world learning might look like, along with detailed examples for how to use our engineering design process to plan project-based units.\n",
    "### The Process:\n",
    "The engineering design process is a key component of STEM teaching & learning. Working with a team of teachers and under the direction of our principal Ashley Kieffer, we developed the following graphic representation of what we simply call \"the process\", as it is intended to be used in all courses, not just engineering.\n",
    "<img src=\"my_icons/the_process.jpg\" alt=\"The Process\" style=\"width: 300px;\"/>"
   ]
  },
  {
   "cell_type": "markdown",
   "metadata": {},
   "source": [
    "# Day-to-Day Leadership\n",
    "> Examples of leadership from a daily management perspective"
   ]
  },
  {
   "cell_type": "markdown",
   "metadata": {},
   "source": [
    "## Celebrating Success\n",
    "\n",
    "ECCA senior Skylar Kennett earned a full scholarship to Georgia Tech. I wrote the following article and had it posted to the school and district websites to celebrate her succes.\n",
    "\n",
    "> [Sky's the Limit for Skylar Kennett](https://www.effinghamschools.com/site/default.aspx?PageType=3&ModuleInstanceID=46709&ViewID=7b97f7ed-8e5e-4120-848f-a8b4987d588f&RenderLoc=0&FlexDataID=65290&PageID=34351)"
   ]
  },
  {
   "cell_type": "markdown",
   "metadata": {},
   "source": [
    "## Working with Students\n",
    "\n",
    "STEM Leadership determined we needed to improve the displays of student work within our building, to better reflect the STEM culture. I mentioned that it would be neat if we had a touchscreen display for when visitors enter the building in which they could access useful information. Senior Mathiew Tackitt took the idea and ran with it, developing the following splash screen for the display, which will eventually link to information specifically for parents, students, and other visitors.\n",
    "\n",
    "[Link to display]"
   ]
  },
  {
   "cell_type": "markdown",
   "metadata": {},
   "source": [
    "## Traffic Management\n",
    "\n",
    "Traffic exiting the parking lot at the end of the day is particularly congested. I created this video and asked Kim Larson to add graphics to it. The video provides an explanation of one way to reduce the congestion.\n",
    "\n",
    "> youtube: https://youtu.be/RDith5rmrSQ"
   ]
  },
  {
   "cell_type": "markdown",
   "metadata": {},
   "source": [
    "## Presenting to Research\n",
    "\n",
    "Dr. Thompson learned of my hobby in machine learning and deep learning. She asked me to present to her scientific research classes in hopes of inspiring students to pursue similar study. I wrote the following blog post following the presentation highlighting the main ideas.\n",
    "\n",
    " > [You Too Can Do AI](https://www.effinghamschools.com/cms/lib/GA01000314/Centricity/Domain/2320/sch_you_can_do.html)"
   ]
  }
 ],
 "metadata": {
  "kernelspec": {
   "display_name": "Python 3",
   "language": "python",
   "name": "python3"
  },
  "language_info": {
   "codemirror_mode": {
    "name": "ipython",
    "version": 3
   },
   "file_extension": ".py",
   "mimetype": "text/x-python",
   "name": "python",
   "nbconvert_exporter": "python",
   "pygments_lexer": "ipython3",
   "version": "3.7.6"
  }
 },
 "nbformat": 4,
 "nbformat_minor": 4
}
